{
 "cells": [
  {
   "cell_type": "code",
   "execution_count": 399,
   "metadata": {},
   "outputs": [],
   "source": [
    "import pandas as pd\n",
    "\n",
    "df = pd.read_csv('indonesian-names.csv')"
   ]
  },
  {
   "cell_type": "code",
   "execution_count": 400,
   "metadata": {},
   "outputs": [],
   "source": [
    "from collections import defaultdict\n",
    "\n",
    "names = list(df['name'])\n",
    "labels = list(df['gender'])\n",
    "\n",
    "zip_list = list(zip(labels, names))\n",
    "\n",
    "train_test_split = int(len(names) * 0.8)\n",
    "train_names = list(names[:train_test_split])\n",
    "train_labels = labels[:train_test_split]\n",
    "test_names = names[train_test_split:]\n",
    "\n",
    "label_dict = defaultdict(list)\n",
    "for label, name in zip_list:\n",
    "    label_dict[label].append(name)"
   ]
  },
  {
   "cell_type": "code",
   "execution_count": 401,
   "metadata": {},
   "outputs": [
    {
     "data": {
      "text/plain": [
       "torch.Size([1, 1960])"
      ]
     },
     "execution_count": 401,
     "metadata": {},
     "output_type": "execute_result"
    }
   ],
   "source": [
    "# converting name lines into tensors\n",
    "import torch\n",
    "import string\n",
    "\n",
    "vocab_size = len(names)\n",
    "\n",
    "def name2Idx(name):\n",
    "    return names.index(name)\n",
    "\n",
    "def name2Tensor(name):\n",
    "    tensor = torch.zeros(1, vocab_size)\n",
    "    tensor[0][name2Idx(name)] = 1\n",
    "    return tensor\n",
    "\n",
    "name2Tensor('gustian').size()"
   ]
  },
  {
   "cell_type": "code",
   "execution_count": 402,
   "metadata": {},
   "outputs": [],
   "source": [
    "# create the feed-forward model\n",
    "import torch\n",
    "import torch.nn as nn\n",
    "\n",
    "class FeedForward(nn.Module):\n",
    "    def __init__(self, input_size, hidden_size, output_size):\n",
    "        super(FeedForward, self).__init__()\n",
    "\n",
    "        self.input2hidden = nn.Linear(input_size, hidden_size)\n",
    "        self.hidden2out = nn.Linear(hidden_size, output_size)\n",
    "\n",
    "    def forward(self, input):\n",
    "        hidden = self.input2hidden(input)\n",
    "        output = self.hidden2out(hidden)\n",
    "        return output"
   ]
  },
  {
   "cell_type": "code",
   "execution_count": 403,
   "metadata": {},
   "outputs": [],
   "source": [
    "# training helper functions\n",
    "import random\n",
    "import numpy as np\n",
    "import torch.nn.functional as F\n",
    "\n",
    "labels = ['m', 'f']\n",
    "\n",
    "def chooseRandom(list):\n",
    "    return list[random.randint(0, len(list) - 1)]\n",
    "\n",
    "def trainingExample():\n",
    "    label = chooseRandom(labels)\n",
    "    name = chooseRandom(label_dict[label])\n",
    "    label_tensor = torch.LongTensor([labels.index(label)])\n",
    "    name_tensor = name2Tensor(name)\n",
    "    return label, name, label_tensor, name_tensor\n",
    "\n",
    "def get_label_from_output(output):\n",
    "    probabilities = F.softmax(output, dim=1)\n",
    "    \n",
    "    _, predicted_index = torch.max(probabilities, 1)\n",
    " \n",
    "    predicted_label = labels[predicted_index.item()]\n",
    "    \n",
    "    return predicted_label"
   ]
  },
  {
   "cell_type": "code",
   "execution_count": 404,
   "metadata": {},
   "outputs": [],
   "source": [
    "# model trainer\n",
    "def train(classifier, label_tensor, name_tensor, ce_loss, optimizer):\n",
    "    optimizer.zero_grad()\n",
    "    output = classifier(name_tensor)\n",
    "    loss = ce_loss(output, label_tensor)\n",
    "    loss.backward()\n",
    "    optimizer.step()\n",
    "    return output, loss.item()\n",
    "    "
   ]
  },
  {
   "cell_type": "code",
   "execution_count": 423,
   "metadata": {},
   "outputs": [
    {
     "name": "stdout",
     "output_type": "stream",
     "text": [
      "0 0% 0.7240 maniso / f ✗ (m)\n",
      "1000 5% 0.1858 mustaqpirin / m ✓\n",
      "2000 10% 0.0424 raditya alfarabi / m ✓\n",
      "3000 15% 0.0205 muhammad asri wisnu wardana / m ✓\n",
      "4000 20% 0.0025 diky handriansyah / m ✓\n",
      "5000 25% 0.0022 muhammad asri wisnu wardana / m ✓\n",
      "6000 30% 0.0014 wiji lestari / f ✓\n",
      "7000 35% 0.0010 ade irmayani / f ✓\n",
      "8000 40% 0.0005 fendi selistiawan / m ✓\n",
      "9000 45% 0.0011 aila annafi'an zaini / f ✓\n",
      "10000 50% 0.0103 sri lestari / f ✓\n",
      "11000 55% 0.0187 istiani / f ✓\n",
      "12000 60% 0.0000 ponirah / f ✓\n",
      "13000 65% 0.0000 mu'alifah / f ✓\n",
      "14000 70% 0.0098 sabrina fatmawati / f ✓\n",
      "15000 75% 0.0000 gino / m ✓\n",
      "16000 80% 0.0000 ninik sulastri / f ✓\n",
      "17000 85% 0.0000 indah mawarni / f ✓\n",
      "18000 90% 0.0000 mesinem / f ✓\n",
      "19000 95% 0.0000 ngatini / f ✓\n"
     ]
    }
   ],
   "source": [
    "from torch import nn, optim\n",
    "\n",
    "classifier = FeedForward(vocab_size, 128, len(labels))\n",
    "optimizer = optim.Adam(classifier.parameters())\n",
    "ce_loss = nn.CrossEntropyLoss()\n",
    "\n",
    "losses_total = []\n",
    "\n",
    "def train_outputs(num_iter):\n",
    "    current_loss = 0\n",
    "    for iter in range(num_iter):\n",
    "        label, name, label_tensor, name_tensor = trainingExample()\n",
    "        output, loss = train(classifier, label_tensor, name_tensor, ce_loss, optimizer)\n",
    "        current_loss += loss\n",
    "\n",
    "        if iter % 1000 == 0:\n",
    "            guess = get_label_from_output(output)\n",
    "            correct = '✓' if guess == label else '✗ (%s)' % label\n",
    "            print(\"%d %d%% %.4f %s / %s %s\" % (iter, iter / num_iter * 100, loss, name, guess, correct))\n",
    "\n",
    "        if iter % 1000 == 0:\n",
    "            losses_total.append(current_loss / 1000)\n",
    "            current_loss = 0\n",
    "\n",
    "\n",
    "train_outputs(20000)\n"
   ]
  },
  {
   "cell_type": "code",
   "execution_count": 424,
   "metadata": {},
   "outputs": [
    {
     "data": {
      "text/plain": [
       "[<matplotlib.lines.Line2D at 0x283b1f790>]"
      ]
     },
     "execution_count": 424,
     "metadata": {},
     "output_type": "execute_result"
    },
    {
     "data": {
      "image/png": "[encoded data removed]",
      "text/plain": [
       "<Figure size 640x480 with 1 Axes>"
      ]
     },
     "metadata": {},
     "output_type": "display_data"
    }
   ],
   "source": [
    "import matplotlib.pyplot as plt\n",
    "import matplotlib.ticker as ticker\n",
    "\n",
    "plt.figure()\n",
    "plt.plot(losses_total)"
   ]
  }
 ],
 "metadata": {
  "kernelspec": {
   "display_name": "Python 3",
   "language": "python",
   "name": "python3"
  },
  "language_info": {
   "codemirror_mode": {
    "name": "ipython",
    "version": 3
   },
   "file_extension": ".py",
   "mimetype": "text/x-python",
   "name": "python",
   "nbconvert_exporter": "python",
   "pygments_lexer": "ipython3",
   "version": "3.10.9"
  },
  "orig_nbformat": 4
 },
 "nbformat": 4,
 "nbformat_minor": 2
}
