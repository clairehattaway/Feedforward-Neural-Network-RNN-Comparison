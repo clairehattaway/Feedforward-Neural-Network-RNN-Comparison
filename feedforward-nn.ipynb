{
 "cells": [
  {
   "cell_type": "code",
   "execution_count": 3,
   "metadata": {},
   "outputs": [],
   "source": [
    "import tensorflow as tf\n",
    "\n",
    "class KerasFeedforward(tf.keras.Sequential):\n",
    "    def __init__(self, embedding_size):\n",
    "        super(KerasFeedforward, self).__init__()\n",
    "        self.add(tf.keras.Input(shape=(embedding_size,)))\n",
    "        self.add(tf.keras.layers.Dense(256))\n",
    "        self.add(tf.keras.layers.Dense(2))"
   ]
  }
 ],
 "metadata": {
  "kernelspec": {
   "display_name": "Python 3",
   "language": "python",
   "name": "python3"
  },
  "language_info": {
   "codemirror_mode": {
    "name": "ipython",
    "version": 3
   },
   "file_extension": ".py",
   "mimetype": "text/x-python",
   "name": "python",
   "nbconvert_exporter": "python",
   "pygments_lexer": "ipython3",
   "version": "3.10.9"
  },
  "orig_nbformat": 4
 },
 "nbformat": 4,
 "nbformat_minor": 2
}
